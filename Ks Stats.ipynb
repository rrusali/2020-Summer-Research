{
 "cells": [
  {
   "cell_type": "code",
   "execution_count": 2,
   "metadata": {},
   "outputs": [],
   "source": [
    "import pandas as pd\n",
    "from scipy.optimize import curve_fit\n",
    "import numpy as np\n",
    "import matplotlib.pyplot as plt\n",
    "import seaborn as sns\n",
    "import os\n",
    "import re\n",
    "from scipy import stats"
   ]
  },
  {
   "cell_type": "code",
   "execution_count": 3,
   "metadata": {},
   "outputs": [],
   "source": [
    "s1 = 'E:/Old Downloads Folder/Research Stuff/Jupyter Notebooks/Coords Folder/Weather Station Coords/'"
   ]
  },
  {
   "cell_type": "code",
   "execution_count": 50,
   "metadata": {},
   "outputs": [],
   "source": [
    "# This finds the initial step, stopping point, and step size of the files in your directory\n",
    "def findFiles(code, filepath):\n",
    "\n",
    "    total_steps = 0\n",
    "    i = 0\n",
    "    first_file = False\n",
    "    final = 0\n",
    "    \n",
    "    # Remove parts of the filename that aren't weather station code\n",
    "    with os.scandir(filepath + code) as entries:\n",
    "        bad_strings = [code, '_', '.txt']\n",
    "        \n",
    "        for entry in entries: \n",
    "            file_name = entry.name\n",
    "            for string in bad_strings: file_name = file_name.replace(string, '')\n",
    "            if float(file_name) > final: final = float(file_name)\n",
    "            if first_file == False:\n",
    "                i = float(file_name)\n",
    "                first_file = True\n",
    "\n",
    "            total_steps += 1\n",
    "\n",
    "    step = round((final - i)/(total_steps - 1), 5)\n",
    "    print(code)\n",
    "    return(i, final, step)\n",
    "\n",
    "\n",
    "# Finding the R^2 value of our curve fitting prediction\n",
    "# Found here: https://stackoverflow.com/questions/19189362/getting-the-r-squared-value-using-curve-fit\n",
    "def findR2(fun, x, y, popt):\n",
    "    residuals = y - fun(x, *popt)\n",
    "    ss_res = np.sum(residuals**2)\n",
    "    ss_tot = np.sum((y - np.mean(y))**2)\n",
    "    return 1 - (ss_res/ss_tot)\n",
    "\n",
    "\n",
    "# Our function!\n",
    "def expFunc(x, a, b): return a*x**b\n",
    "\n",
    "\n",
    "# Find the range at which our distribution has an exponent around -1 with a good R2\n",
    "def findRange(code, filepath):\n",
    "    i, final, step = findFiles(code, filepath)\n",
    "    column_names = ['Ovito Range', 'coeff', 'exp', 'R2']\n",
    "    final_frame = pd.DataFrame(columns = column_names)\n",
    "    \n",
    "    s2 = '/' + code + '_'\n",
    "    \n",
    "    best_range = 0\n",
    "    best_r2 = 0\n",
    "    best_diff = np.inf\n",
    "    \n",
    "    # The loop that does everything yeet\n",
    "    while i < final:\n",
    "        \n",
    "        # I could not figure out how to intelligently round the numbers so make sure to check this before running!!\n",
    "        i = round(i, 5)\n",
    "        openpath = filepath + code + s2 + str(i) + '.txt'\n",
    "        \n",
    "        with open(openpath) as file:\n",
    "            data = pd.read_csv(file, sep=',', names=['Size'], skiprows=[0])\n",
    "\n",
    "        data.index = data.index + 1\n",
    "        data = data.reset_index()\n",
    "        xdata = data['index']\n",
    "        ydata = data['Size']\n",
    "        \n",
    "        variables, covariance = curve_fit(expFunc, xdata, ydata)\n",
    "        R2 = findR2(expFunc, xdata, ydata, variables)\n",
    "        range_diff = abs(1 - abs(variables[1]))\n",
    "        \n",
    "        if range_diff < best_diff:\n",
    "            best_diff = range_diff\n",
    "            best_range = i\n",
    "\n",
    "        i += step\n",
    "        \n",
    "    return best_range\n",
    "\n",
    "\n",
    "# This normalized our distribution so that we can compare it to a Zipfian distribution\n",
    "def normalizedDistribution(code, filepath):\n",
    "    file = filepath + code + '/' + code + '_' + str(findRange(code, filepath)) + '.txt'\n",
    "    data = pd.read_csv(file, sep=',', names=['Size'], skiprows=[0])\n",
    "    data = data.divide(data['Size'].sum())\n",
    "    return data['Size'].tolist()\n",
    "\n",
    "\n",
    "# This finds the max difference between any point in the building rank-size disribution and the expected value\n",
    "# from a perfect exponential distribution.\n",
    "def findKs(code, filepath):\n",
    "    \n",
    "    # This bit creates the proper Zipfian distribution\n",
    "    data = normalizedDistribution(code, filepath)\n",
    "    hi = len(data)\n",
    "    zipDist = []\n",
    "    for i in range(1, hi+1):\n",
    "        zipDist.append(1/i)\n",
    "    totalVal = sum(zipDist)\n",
    "    zipDist[:] = [val/totalVal for val in zipDist]\n",
    "    \n",
    "    # This block finds the max difference\n",
    "    maxDist = 0\n",
    "    for i in range(len(data)):\n",
    "        diff = abs(data[i] - zipDist[i])\n",
    "        if diff > maxDist: maxDist = diff\n",
    "    \n",
    "    # Plot the specific weather station code you want\n",
    "    if code == 'USW00023130':\n",
    "        \n",
    "        n = 30\n",
    "        sns.scatterplot(x=np.arange(0, hi)[:n], y=data[:n])\n",
    "        sns.scatterplot(x=np.arange(0, hi)[:n], y=zipDist[:n])\n",
    "    \n",
    "    return maxDist"
   ]
  },
  {
   "cell_type": "code",
   "execution_count": 51,
   "metadata": {},
   "outputs": [
    {
     "name": "stdout",
     "output_type": "stream",
     "text": [
      "USW00023130\n"
     ]
    },
    {
     "name": "stderr",
     "output_type": "stream",
     "text": [
      "E:\\Anaconda3\\lib\\site-packages\\scipy\\optimize\\minpack.py:808: OptimizeWarning: Covariance of the parameters could not be estimated\n",
      "  category=OptimizeWarning)\n"
     ]
    },
    {
     "data": {
      "text/plain": [
       "0.14419707969961698"
      ]
     },
     "execution_count": 51,
     "metadata": {},
     "output_type": "execute_result"
    },
    {
     "data": {
      "image/png": "[encoded data removed]",
      "text/plain": [
       "<Figure size 432x288 with 1 Axes>"
      ]
     },
     "metadata": {
      "needs_background": "light"
     },
     "output_type": "display_data"
    }
   ],
   "source": [
    "findKs('USW00023130', s1 + 'Los Angeles/')"
   ]
  },
  {
   "cell_type": "code",
   "execution_count": 43,
   "metadata": {},
   "outputs": [
    {
     "name": "stdout",
     "output_type": "stream",
     "text": [
      "USC00360022\n",
      "USC00360861\n",
      "USC00362574\n",
      "USC00365573\n",
      "USC00365918\n",
      "USW00014762\n",
      "USW00094823\n",
      "USW00023130\n",
      "USW00093134\n"
     ]
    },
    {
     "data": {
      "text/html": [
       "<div>\n",
       "<style scoped>\n",
       "    .dataframe tbody tr th:only-of-type {\n",
       "        vertical-align: middle;\n",
       "    }\n",
       "\n",
       "    .dataframe tbody tr th {\n",
       "        vertical-align: top;\n",
       "    }\n",
       "\n",
       "    .dataframe thead th {\n",
       "        text-align: right;\n",
       "    }\n",
       "</style>\n",
       "<table border=\"1\" class=\"dataframe\">\n",
       "  <thead>\n",
       "    <tr style=\"text-align: right;\">\n",
       "      <th></th>\n",
       "      <th>Code</th>\n",
       "      <th>Ks</th>\n",
       "    </tr>\n",
       "  </thead>\n",
       "  <tbody>\n",
       "    <tr>\n",
       "      <th>0</th>\n",
       "      <td>USC00360022</td>\n",
       "      <td>0.050472</td>\n",
       "    </tr>\n",
       "    <tr>\n",
       "      <th>1</th>\n",
       "      <td>USC00360861</td>\n",
       "      <td>0.085124</td>\n",
       "    </tr>\n",
       "    <tr>\n",
       "      <th>2</th>\n",
       "      <td>USC00362574</td>\n",
       "      <td>0.053122</td>\n",
       "    </tr>\n",
       "    <tr>\n",
       "      <th>3</th>\n",
       "      <td>USC00365573</td>\n",
       "      <td>0.019655</td>\n",
       "    </tr>\n",
       "    <tr>\n",
       "      <th>4</th>\n",
       "      <td>USC00365918</td>\n",
       "      <td>0.024495</td>\n",
       "    </tr>\n",
       "    <tr>\n",
       "      <th>5</th>\n",
       "      <td>USW00014762</td>\n",
       "      <td>0.072417</td>\n",
       "    </tr>\n",
       "    <tr>\n",
       "      <th>6</th>\n",
       "      <td>USW00094823</td>\n",
       "      <td>0.036797</td>\n",
       "    </tr>\n",
       "    <tr>\n",
       "      <th>7</th>\n",
       "      <td>USW00023130</td>\n",
       "      <td>0.144197</td>\n",
       "    </tr>\n",
       "    <tr>\n",
       "      <th>8</th>\n",
       "      <td>USW00093134</td>\n",
       "      <td>0.072975</td>\n",
       "    </tr>\n",
       "  </tbody>\n",
       "</table>\n",
       "</div>"
      ],
      "text/plain": [
       "          Code        Ks\n",
       "0  USC00360022  0.050472\n",
       "1  USC00360861  0.085124\n",
       "2  USC00362574  0.053122\n",
       "3  USC00365573  0.019655\n",
       "4  USC00365918  0.024495\n",
       "5  USW00014762  0.072417\n",
       "6  USW00094823  0.036797\n",
       "7  USW00023130  0.144197\n",
       "8  USW00093134  0.072975"
      ]
     },
     "execution_count": 43,
     "metadata": {},
     "output_type": "execute_result"
    },
    {
     "data": {
      "image/png": "[encoded data removed]",
      "text/plain": [
       "<Figure size 432x288 with 1 Axes>"
      ]
     },
     "metadata": {
      "needs_background": "light"
     },
     "output_type": "display_data"
    }
   ],
   "source": [
    "s2 = s1 + 'Los Angeles/'\n",
    "\n",
    "full_frame = pd.DataFrame(columns=['Code', 'Ks'])\n",
    "\n",
    "for s in [s1, s2]:\n",
    "    output = [dI for dI in os.listdir(s) if os.path.isdir(os.path.join(s ,dI))]\n",
    "    for name in output:\n",
    "        if name[:2] == 'US':\n",
    "            temp_df = pd.DataFrame([[name, findKs(name, s)]], columns=['Code', 'Ks'])\n",
    "            full_frame = full_frame.append(temp_df, ignore_index=True)     \n",
    "            \n",
    "full_frame"
   ]
  },
  {
   "cell_type": "code",
   "execution_count": null,
   "metadata": {},
   "outputs": [],
   "source": []
  }
 ],
 "metadata": {
  "kernelspec": {
   "display_name": "Python 3",
   "language": "python",
   "name": "python3"
  },
  "language_info": {
   "codemirror_mode": {
    "name": "ipython",
    "version": 3
   },
   "file_extension": ".py",
   "mimetype": "text/x-python",
   "name": "python",
   "nbconvert_exporter": "python",
   "pygments_lexer": "ipython3",
   "version": "3.7.6"
  }
 },
 "nbformat": 4,
 "nbformat_minor": 4
}
