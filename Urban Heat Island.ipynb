{
 "cells": [
  {
   "cell_type": "code",
   "execution_count": 11,
   "metadata": {},
   "outputs": [],
   "source": [
    "import pandas as pd\n",
    "import numpy as np"
   ]
  },
  {
   "cell_type": "code",
   "execution_count": 12,
   "metadata": {},
   "outputs": [
    {
     "data": {
      "text/html": [
       "<div>\n",
       "<style scoped>\n",
       "    .dataframe tbody tr th:only-of-type {\n",
       "        vertical-align: middle;\n",
       "    }\n",
       "\n",
       "    .dataframe tbody tr th {\n",
       "        vertical-align: top;\n",
       "    }\n",
       "\n",
       "    .dataframe thead th {\n",
       "        text-align: right;\n",
       "    }\n",
       "</style>\n",
       "<table border=\"1\" class=\"dataframe\">\n",
       "  <thead>\n",
       "    <tr style=\"text-align: right;\">\n",
       "      <th></th>\n",
       "      <th>TMIN</th>\n",
       "    </tr>\n",
       "    <tr>\n",
       "      <th>STATION</th>\n",
       "      <th></th>\n",
       "    </tr>\n",
       "  </thead>\n",
       "  <tbody>\n",
       "    <tr>\n",
       "      <th>USW00023130</th>\n",
       "      <td>54.953297</td>\n",
       "    </tr>\n",
       "    <tr>\n",
       "      <th>USW00093134</th>\n",
       "      <td>57.561644</td>\n",
       "    </tr>\n",
       "  </tbody>\n",
       "</table>\n",
       "</div>"
      ],
      "text/plain": [
       "                  TMIN\n",
       "STATION               \n",
       "USW00023130  54.953297\n",
       "USW00093134  57.561644"
      ]
     },
     "execution_count": 12,
     "metadata": {},
     "output_type": "execute_result"
    }
   ],
   "source": [
    "filepath = \"E:\\Old Downloads Folder\\Research Stuff\\Climate Data\\LA_Weather_Stations.csv\"\n",
    "\n",
    "with open(filepath) as f:\n",
    "    \n",
    "    temperature = pd.read_csv(f, sep = ',')\n",
    "    \n",
    "    temperature = temperature.drop(['NAME'], axis = 1)\n",
    "    \n",
    "    temperature = temperature.set_index(['STATION', 'DATE'])\n",
    "    \n",
    "    temperature = temperature.groupby(level = 0).mean()\n",
    "    \n",
    "temperature"
   ]
  },
  {
   "cell_type": "code",
   "execution_count": 13,
   "metadata": {},
   "outputs": [
    {
     "data": {
      "text/html": [
       "<div>\n",
       "<style scoped>\n",
       "    .dataframe tbody tr th:only-of-type {\n",
       "        vertical-align: middle;\n",
       "    }\n",
       "\n",
       "    .dataframe tbody tr th {\n",
       "        vertical-align: top;\n",
       "    }\n",
       "\n",
       "    .dataframe thead th {\n",
       "        text-align: right;\n",
       "    }\n",
       "</style>\n",
       "<table border=\"1\" class=\"dataframe\">\n",
       "  <thead>\n",
       "    <tr style=\"text-align: right;\">\n",
       "      <th></th>\n",
       "      <th>TMIN</th>\n",
       "    </tr>\n",
       "    <tr>\n",
       "      <th>STATION</th>\n",
       "      <th></th>\n",
       "    </tr>\n",
       "  </thead>\n",
       "  <tbody>\n",
       "    <tr>\n",
       "      <th>USR0000CBCN</th>\n",
       "      <td>54.210959</td>\n",
       "    </tr>\n",
       "    <tr>\n",
       "      <th>USR0000CCAS</th>\n",
       "      <td>54.487671</td>\n",
       "    </tr>\n",
       "    <tr>\n",
       "      <th>USR0000CCHI</th>\n",
       "      <td>48.506849</td>\n",
       "    </tr>\n",
       "    <tr>\n",
       "      <th>USR0000CCLE</th>\n",
       "      <td>53.128767</td>\n",
       "    </tr>\n",
       "  </tbody>\n",
       "</table>\n",
       "</div>"
      ],
      "text/plain": [
       "                  TMIN\n",
       "STATION               \n",
       "USR0000CBCN  54.210959\n",
       "USR0000CCAS  54.487671\n",
       "USR0000CCHI  48.506849\n",
       "USR0000CCLE  53.128767"
      ]
     },
     "execution_count": 13,
     "metadata": {},
     "output_type": "execute_result"
    }
   ],
   "source": [
    "path = \"E:\\Old Downloads Folder\\Research Stuff\\Climate Data\\LA_Rural_Temps.csv\"\n",
    "\n",
    "with open(path) as file:\n",
    "    \n",
    "    temp = pd.read_csv(file, sep = ',')\n",
    "    \n",
    "    temp = temp.set_index(['STATION', 'NAME', 'DATE'])\n",
    "    \n",
    "    temp = temp.groupby(level = 0).mean()\n",
    "\n",
    "temp"
   ]
  },
  {
   "cell_type": "code",
   "execution_count": 14,
   "metadata": {},
   "outputs": [
    {
     "data": {
      "text/html": [
       "<div>\n",
       "<style scoped>\n",
       "    .dataframe tbody tr th:only-of-type {\n",
       "        vertical-align: middle;\n",
       "    }\n",
       "\n",
       "    .dataframe tbody tr th {\n",
       "        vertical-align: top;\n",
       "    }\n",
       "\n",
       "    .dataframe thead th {\n",
       "        text-align: right;\n",
       "    }\n",
       "</style>\n",
       "<table border=\"1\" class=\"dataframe\">\n",
       "  <thead>\n",
       "    <tr style=\"text-align: right;\">\n",
       "      <th></th>\n",
       "      <th>UHI</th>\n",
       "    </tr>\n",
       "    <tr>\n",
       "      <th>STATION</th>\n",
       "      <th></th>\n",
       "    </tr>\n",
       "  </thead>\n",
       "  <tbody>\n",
       "    <tr>\n",
       "      <th>USW00023130</th>\n",
       "      <td>2.369735</td>\n",
       "    </tr>\n",
       "    <tr>\n",
       "      <th>USW00093134</th>\n",
       "      <td>4.978082</td>\n",
       "    </tr>\n",
       "  </tbody>\n",
       "</table>\n",
       "</div>"
      ],
      "text/plain": [
       "                  UHI\n",
       "STATION              \n",
       "USW00023130  2.369735\n",
       "USW00093134  4.978082"
      ]
     },
     "execution_count": 14,
     "metadata": {},
     "output_type": "execute_result"
    }
   ],
   "source": [
    "sub = temp.mean()\n",
    "\n",
    "temperature['TMIN'] = temperature['TMIN'].subtract(sub[0])\n",
    "\n",
    "temperature = temperature.rename(columns = {'TMIN':'UHI'})\n",
    "\n",
    "temperature"
   ]
  },
  {
   "cell_type": "code",
   "execution_count": 15,
   "metadata": {},
   "outputs": [],
   "source": [
    "savepath = 'E:/Old Downloads Folder/Research Stuff/Climate Data/LA_UHII.csv'\n",
    "\n",
    "temperature.to_csv(savepath)"
   ]
  },
  {
   "cell_type": "code",
   "execution_count": null,
   "metadata": {},
   "outputs": [],
   "source": []
  }
 ],
 "metadata": {
  "kernelspec": {
   "display_name": "Python 3",
   "language": "python",
   "name": "python3"
  },
  "language_info": {
   "codemirror_mode": {
    "name": "ipython",
    "version": 3
   },
   "file_extension": ".py",
   "mimetype": "text/x-python",
   "name": "python",
   "nbconvert_exporter": "python",
   "pygments_lexer": "ipython3",
   "version": "3.7.6"
  }
 },
 "nbformat": 4,
 "nbformat_minor": 4
}
