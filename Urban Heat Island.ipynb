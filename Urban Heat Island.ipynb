{
 "cells": [
  {
   "cell_type": "code",
   "execution_count": 1,
   "metadata": {},
   "outputs": [],
   "source": [
    "import pandas as pd\n",
    "import numpy as np"
   ]
  },
  {
   "cell_type": "code",
   "execution_count": 2,
   "metadata": {},
   "outputs": [
    {
     "data": {
      "text/html": [
       "<div>\n",
       "<style scoped>\n",
       "    .dataframe tbody tr th:only-of-type {\n",
       "        vertical-align: middle;\n",
       "    }\n",
       "\n",
       "    .dataframe tbody tr th {\n",
       "        vertical-align: top;\n",
       "    }\n",
       "\n",
       "    .dataframe thead th {\n",
       "        text-align: right;\n",
       "    }\n",
       "</style>\n",
       "<table border=\"1\" class=\"dataframe\">\n",
       "  <thead>\n",
       "    <tr style=\"text-align: right;\">\n",
       "      <th></th>\n",
       "      <th>TMIN</th>\n",
       "    </tr>\n",
       "    <tr>\n",
       "      <th>STATION</th>\n",
       "      <th></th>\n",
       "    </tr>\n",
       "  </thead>\n",
       "  <tbody>\n",
       "    <tr>\n",
       "      <th>USC00360022</th>\n",
       "      <td>42.209945</td>\n",
       "    </tr>\n",
       "    <tr>\n",
       "      <th>USC00360861</th>\n",
       "      <td>44.928161</td>\n",
       "    </tr>\n",
       "    <tr>\n",
       "      <th>USC00362574</th>\n",
       "      <td>42.966292</td>\n",
       "    </tr>\n",
       "    <tr>\n",
       "      <th>USC00365573</th>\n",
       "      <td>41.289256</td>\n",
       "    </tr>\n",
       "    <tr>\n",
       "      <th>USC00365918</th>\n",
       "      <td>41.947945</td>\n",
       "    </tr>\n",
       "    <tr>\n",
       "      <th>USW00014762</th>\n",
       "      <td>44.334247</td>\n",
       "    </tr>\n",
       "    <tr>\n",
       "      <th>USW00094823</th>\n",
       "      <td>43.254795</td>\n",
       "    </tr>\n",
       "  </tbody>\n",
       "</table>\n",
       "</div>"
      ],
      "text/plain": [
       "                  TMIN\n",
       "STATION               \n",
       "USC00360022  42.209945\n",
       "USC00360861  44.928161\n",
       "USC00362574  42.966292\n",
       "USC00365573  41.289256\n",
       "USC00365918  41.947945\n",
       "USW00014762  44.334247\n",
       "USW00094823  43.254795"
      ]
     },
     "execution_count": 2,
     "metadata": {},
     "output_type": "execute_result"
    }
   ],
   "source": [
    "filepath = \"E:\\Old Downloads Folder\\Research Stuff\\Climate Data\\Pittsburgh_Weather_Stations.csv\"\n",
    "\n",
    "with open(filepath) as f:\n",
    "    \n",
    "    temperature = pd.read_csv(f, sep = ',')\n",
    "    \n",
    "    temperature = temperature.drop(['NAME'], axis = 1)\n",
    "    \n",
    "    temperature = temperature.set_index(['STATION', 'DATE', 'ZIP'])\n",
    "    \n",
    "    temperature = temperature.groupby(level = 0).mean()\n",
    "    \n",
    "temperature"
   ]
  },
  {
   "cell_type": "code",
   "execution_count": 3,
   "metadata": {},
   "outputs": [
    {
     "data": {
      "text/html": [
       "<div>\n",
       "<style scoped>\n",
       "    .dataframe tbody tr th:only-of-type {\n",
       "        vertical-align: middle;\n",
       "    }\n",
       "\n",
       "    .dataframe tbody tr th {\n",
       "        vertical-align: top;\n",
       "    }\n",
       "\n",
       "    .dataframe thead th {\n",
       "        text-align: right;\n",
       "    }\n",
       "</style>\n",
       "<table border=\"1\" class=\"dataframe\">\n",
       "  <thead>\n",
       "    <tr style=\"text-align: right;\">\n",
       "      <th></th>\n",
       "      <th>TMIN</th>\n",
       "    </tr>\n",
       "    <tr>\n",
       "      <th>STATION</th>\n",
       "      <th></th>\n",
       "    </tr>\n",
       "  </thead>\n",
       "  <tbody>\n",
       "    <tr>\n",
       "      <th>USC00362942</th>\n",
       "      <td>39.410959</td>\n",
       "    </tr>\n",
       "    <tr>\n",
       "      <th>USC00364214</th>\n",
       "      <td>38.920548</td>\n",
       "    </tr>\n",
       "    <tr>\n",
       "      <th>USC00365212</th>\n",
       "      <td>39.482192</td>\n",
       "    </tr>\n",
       "    <tr>\n",
       "      <th>USC00367782</th>\n",
       "      <td>41.381868</td>\n",
       "    </tr>\n",
       "  </tbody>\n",
       "</table>\n",
       "</div>"
      ],
      "text/plain": [
       "                  TMIN\n",
       "STATION               \n",
       "USC00362942  39.410959\n",
       "USC00364214  38.920548\n",
       "USC00365212  39.482192\n",
       "USC00367782  41.381868"
      ]
     },
     "execution_count": 3,
     "metadata": {},
     "output_type": "execute_result"
    }
   ],
   "source": [
    "path = \"E:\\Old Downloads Folder\\Research Stuff\\Climate Data\\Pittsburgh_Rural_Temps.csv\"\n",
    "\n",
    "with open(path) as file:\n",
    "    \n",
    "    temp = pd.read_csv(file, sep = ',')\n",
    "    \n",
    "    temp = temp.set_index(['STATION', 'NAME', 'DATE'])\n",
    "    \n",
    "    temp = temp.groupby(level = 0).mean()\n",
    "\n",
    "temp"
   ]
  },
  {
   "cell_type": "code",
   "execution_count": 4,
   "metadata": {},
   "outputs": [
    {
     "data": {
      "text/html": [
       "<div>\n",
       "<style scoped>\n",
       "    .dataframe tbody tr th:only-of-type {\n",
       "        vertical-align: middle;\n",
       "    }\n",
       "\n",
       "    .dataframe tbody tr th {\n",
       "        vertical-align: top;\n",
       "    }\n",
       "\n",
       "    .dataframe thead th {\n",
       "        text-align: right;\n",
       "    }\n",
       "</style>\n",
       "<table border=\"1\" class=\"dataframe\">\n",
       "  <thead>\n",
       "    <tr style=\"text-align: right;\">\n",
       "      <th></th>\n",
       "      <th>UHI</th>\n",
       "    </tr>\n",
       "    <tr>\n",
       "      <th>STATION</th>\n",
       "      <th></th>\n",
       "    </tr>\n",
       "  </thead>\n",
       "  <tbody>\n",
       "    <tr>\n",
       "      <th>USC00360022</th>\n",
       "      <td>2.411053</td>\n",
       "    </tr>\n",
       "    <tr>\n",
       "      <th>USC00360861</th>\n",
       "      <td>5.129269</td>\n",
       "    </tr>\n",
       "    <tr>\n",
       "      <th>USC00362574</th>\n",
       "      <td>3.167400</td>\n",
       "    </tr>\n",
       "    <tr>\n",
       "      <th>USC00365573</th>\n",
       "      <td>1.490365</td>\n",
       "    </tr>\n",
       "    <tr>\n",
       "      <th>USC00365918</th>\n",
       "      <td>2.149054</td>\n",
       "    </tr>\n",
       "    <tr>\n",
       "      <th>USW00014762</th>\n",
       "      <td>4.535355</td>\n",
       "    </tr>\n",
       "    <tr>\n",
       "      <th>USW00094823</th>\n",
       "      <td>3.455903</td>\n",
       "    </tr>\n",
       "  </tbody>\n",
       "</table>\n",
       "</div>"
      ],
      "text/plain": [
       "                  UHI\n",
       "STATION              \n",
       "USC00360022  2.411053\n",
       "USC00360861  5.129269\n",
       "USC00362574  3.167400\n",
       "USC00365573  1.490365\n",
       "USC00365918  2.149054\n",
       "USW00014762  4.535355\n",
       "USW00094823  3.455903"
      ]
     },
     "execution_count": 4,
     "metadata": {},
     "output_type": "execute_result"
    }
   ],
   "source": [
    "sub = temp.mean()\n",
    "\n",
    "temperature['TMIN'] = temperature['TMIN'].subtract(sub[0])\n",
    "\n",
    "temperature = temperature.rename(columns = {'TMIN':'UHI'})\n",
    "\n",
    "temperature"
   ]
  },
  {
   "cell_type": "code",
   "execution_count": 5,
   "metadata": {},
   "outputs": [],
   "source": [
    "savepath = 'E:/Old Downloads Folder/Research Stuff/Climate Data/UHII.csv'\n",
    "\n",
    "temperature.to_csv(savepath)"
   ]
  },
  {
   "cell_type": "code",
   "execution_count": null,
   "metadata": {},
   "outputs": [],
   "source": []
  }
 ],
 "metadata": {
  "kernelspec": {
   "display_name": "Python 3",
   "language": "python",
   "name": "python3"
  },
  "language_info": {
   "codemirror_mode": {
    "name": "ipython",
    "version": 3
   },
   "file_extension": ".py",
   "mimetype": "text/x-python",
   "name": "python",
   "nbconvert_exporter": "python",
   "pygments_lexer": "ipython3",
   "version": "3.7.6"
  }
 },
 "nbformat": 4,
 "nbformat_minor": 4
}
