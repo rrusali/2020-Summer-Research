{
 "cells": [
  {
   "cell_type": "code",
   "execution_count": 1,
   "metadata": {},
   "outputs": [],
   "source": [
    "import os\n",
    "from shutil import copyfile"
   ]
  },
  {
   "cell_type": "code",
   "execution_count": 4,
   "metadata": {},
   "outputs": [
    {
     "name": "stdout",
     "output_type": "stream",
     "text": [
      "60\n",
      "803\n",
      "1120\n",
      "1293\n",
      "1352\n",
      "1538\n",
      "1903\n",
      "2740\n",
      "3004\n",
      "3912\n",
      "3989\n",
      "4057\n",
      "4382\n",
      "4931\n",
      "5078\n",
      "5247\n",
      "5562\n",
      "5682\n",
      "6290\n",
      "6483\n",
      "6614\n",
      "6881\n",
      "6916\n",
      "6971\n",
      "7226\n",
      "7250\n",
      "7714\n",
      "8406\n",
      "8440\n",
      "9402\n",
      "9688\n",
      "9911\n",
      "10099\n",
      "10108\n",
      "10654\n",
      "11115\n",
      "11641\n",
      "11760\n",
      "11798\n",
      "12047\n",
      "12053\n",
      "12296\n",
      "12798\n",
      "12872\n",
      "13365\n",
      "13594\n",
      "13600\n",
      "14283\n",
      "14288\n",
      "14423\n",
      "14494\n",
      "14496\n",
      "14583\n",
      "14599\n",
      "14878\n",
      "15189\n",
      "15494\n",
      "15495\n",
      "15720\n",
      "16143\n",
      "16176\n",
      "16325\n",
      "16384\n",
      "16432\n",
      "16562\n",
      "16745\n",
      "16756\n",
      "16927\n",
      "17061\n",
      "17393\n"
     ]
    }
   ],
   "source": [
    "code = 'USW00093134_1mile'\n",
    "\n",
    "s1 = 'E:/Old Downloads Folder/Research Stuff/GIS Maps/Rooftops/Los Angeles/'\n",
    "\n",
    "buildings = 17532\n",
    "\n",
    "for i in range(buildings):\n",
    "    \n",
    "    check = s1 + code + '/' + code + '_' + str(i) + '.tif'\n",
    "    \n",
    "    if os.path.isfile(check) == False:\n",
    "        \n",
    "        print(i)\n",
    "        \n",
    "        source = s1 + code + '/' + code + '_' + str(i - 1) + '.tif'\n",
    "        \n",
    "        copyfile(source, check)"
   ]
  },
  {
   "cell_type": "code",
   "execution_count": 3,
   "metadata": {},
   "outputs": [
    {
     "data": {
      "text/plain": [
       "'USW0002313'"
      ]
     },
     "execution_count": 3,
     "metadata": {},
     "output_type": "execute_result"
    }
   ],
   "source": [
    "code[:-4]"
   ]
  },
  {
   "cell_type": "code",
   "execution_count": null,
   "metadata": {},
   "outputs": [],
   "source": []
  }
 ],
 "metadata": {
  "kernelspec": {
   "display_name": "Python 3",
   "language": "python",
   "name": "python3"
  },
  "language_info": {
   "codemirror_mode": {
    "name": "ipython",
    "version": 3
   },
   "file_extension": ".py",
   "mimetype": "text/x-python",
   "name": "python",
   "nbconvert_exporter": "python",
   "pygments_lexer": "ipython3",
   "version": "3.7.6"
  }
 },
 "nbformat": 4,
 "nbformat_minor": 4
}
