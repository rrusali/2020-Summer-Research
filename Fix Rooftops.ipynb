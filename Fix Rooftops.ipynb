{
 "cells": [
  {
   "cell_type": "code",
   "execution_count": 3,
   "metadata": {},
   "outputs": [],
   "source": [
    "import os\n",
    "from shutil import copyfile"
   ]
  },
  {
   "cell_type": "code",
   "execution_count": 4,
   "metadata": {},
   "outputs": [
    {
     "name": "stdout",
     "output_type": "stream",
     "text": [
      "5211\n",
      "7976\n",
      "10830\n",
      "12220\n"
     ]
    }
   ],
   "source": [
    "code = 'USW00094823'\n",
    "\n",
    "s1 = 'E:/Old Downloads Folder/Research Stuff/GIS Maps/Rooftops/'\n",
    "\n",
    "buildings = 16864\n",
    "\n",
    "for i in range(buildings):\n",
    "    \n",
    "    check = s1 + code + '/' + code + '_' + str(i) + '.tif'\n",
    "    \n",
    "    if os.path.isfile(check) == False:\n",
    "        \n",
    "        print(i)\n",
    "        \n",
    "        source = s1 + code + '/' + code + '_' + str(i - 1) + '.tif'\n",
    "        \n",
    "        copyfile(source, check)"
   ]
  }
 ],
 "metadata": {
  "kernelspec": {
   "display_name": "Python 3",
   "language": "python",
   "name": "python3"
  },
  "language_info": {
   "codemirror_mode": {
    "name": "ipython",
    "version": 3
   },
   "file_extension": ".py",
   "mimetype": "text/x-python",
   "name": "python",
   "nbconvert_exporter": "python",
   "pygments_lexer": "ipython3",
   "version": "3.7.6"
  }
 },
 "nbformat": 4,
 "nbformat_minor": 4
}
