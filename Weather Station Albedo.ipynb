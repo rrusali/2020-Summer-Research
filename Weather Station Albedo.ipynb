{
 "cells": [
  {
   "cell_type": "code",
   "execution_count": 24,
   "metadata": {},
   "outputs": [],
   "source": [
    "import pandas as pd\n",
    "import numpy as np\n",
    "import math"
   ]
  },
  {
   "cell_type": "code",
   "execution_count": 29,
   "metadata": {},
   "outputs": [],
   "source": [
    "code = 'USC00360022'\n",
    "\n",
    "s1 = 'E:/Old Downloads Folder/Research Stuff/GIS Maps/Albedo Data/'\n",
    "\n",
    "s2 = '_albedo_data.csv'\n",
    "\n",
    "openpath = s1 + code + s2\n",
    "\n",
    "with open(openpath) as f:\n",
    "    \n",
    "    data = pd.read_csv(f, sep = ',')\n",
    "    \n",
    "totalAlbedo = float(0)\n",
    "\n",
    "totalArea = float(0)\n",
    "\n",
    "for index, row in data.iterrows():\n",
    "    \n",
    "    val = row['Area'] * row['Albedo']\n",
    "    \n",
    "    if not math.isnan(val):\n",
    "    \n",
    "        totalAlbedo += val\n",
    "        \n",
    "    totalArea += row['Area']\n",
    "\n",
    "weightedAlbedo = totalAlbedo/totalArea\n",
    "\n",
    "with open(s1 + code + '_weighted_albedo.txt', 'w+') as f:\n",
    "    \n",
    "    f.write(str(weightedAlbedo))"
   ]
  },
  {
   "cell_type": "code",
   "execution_count": 30,
   "metadata": {},
   "outputs": [],
   "source": [
    "codes = ['USC00360022', 'USC00360861', 'USC00362574', 'USC00365573', 'USC00365918', 'USW00014762', 'USW00094823']\n",
    "\n",
    "for code in codes:\n",
    "\n",
    "    openpath = s1 + code + s2\n",
    "\n",
    "    with open(openpath) as f:\n",
    "\n",
    "        data = pd.read_csv(f, sep = ',')\n",
    "\n",
    "    totalAlbedo = float(0)\n",
    "\n",
    "    totalArea = float(0)\n",
    "\n",
    "    for index, row in data.iterrows():\n",
    "\n",
    "        val = row['Area'] * row['Albedo']\n",
    "\n",
    "        if not math.isnan(val):\n",
    "\n",
    "            totalAlbedo += val\n",
    "\n",
    "        totalArea += row['Area']\n",
    "\n",
    "    weightedAlbedo = totalAlbedo/totalArea\n",
    "\n",
    "    with open(s1 + code + '_weighted_albedo.txt', 'w+') as f:\n",
    "\n",
    "        f.write(str(weightedAlbedo))"
   ]
  },
  {
   "cell_type": "code",
   "execution_count": null,
   "metadata": {},
   "outputs": [],
   "source": []
  }
 ],
 "metadata": {
  "kernelspec": {
   "display_name": "Python 3",
   "language": "python",
   "name": "python3"
  },
  "language_info": {
   "codemirror_mode": {
    "name": "ipython",
    "version": 3
   },
   "file_extension": ".py",
   "mimetype": "text/x-python",
   "name": "python",
   "nbconvert_exporter": "python",
   "pygments_lexer": "ipython3",
   "version": "3.7.6"
  }
 },
 "nbformat": 4,
 "nbformat_minor": 4
}
