{
 "cells": [
  {
   "cell_type": "code",
   "execution_count": 1,
   "metadata": {},
   "outputs": [],
   "source": [
    "import pandas as pd\n",
    "import numpy as np\n",
    "import math"
   ]
  },
  {
   "cell_type": "code",
   "execution_count": 2,
   "metadata": {},
   "outputs": [],
   "source": [
    "code = 'USC00408238'\n",
    "\n",
    "s1 = 'E:/Old Downloads Folder/Research Stuff/GIS Maps/Albedo Data/'\n",
    "\n",
    "s2 = '_albedo_data.csv'\n",
    "\n",
    "openpath = s1 + code + s2\n",
    "\n",
    "with open(openpath) as f:\n",
    "    \n",
    "    data = pd.read_csv(f, sep = ',')\n",
    "    \n",
    "totalAlbedo = float(0)\n",
    "\n",
    "totalArea = float(0)\n",
    "\n",
    "for index, row in data.iterrows():\n",
    "    \n",
    "    val = row['Area'] * row['Albedo']\n",
    "    \n",
    "    if not math.isnan(val):\n",
    "    \n",
    "        totalAlbedo += val\n",
    "        \n",
    "    totalArea += row['Area']\n",
    "\n",
    "weightedAlbedo = totalAlbedo/totalArea\n",
    "\n",
    "with open(s1 + code + '_weighted_albedo.txt', 'w+') as f:\n",
    "    \n",
    "    f.write(str(weightedAlbedo))"
   ]
  },
  {
   "cell_type": "code",
   "execution_count": 2,
   "metadata": {},
   "outputs": [],
   "source": [
    "codes = ['USW00023130_1mile', 'USW00093134_1mile']\n",
    "codes = ['USC00360022', 'USC00360861', 'USC00362574', 'USC00365573', 'USC00365918', 'USW00014762', 'USW00094823']\n",
    "\n",
    "s1 = 'E:/Old Downloads Folder/Research Stuff/GIS Maps/Albedo Data/1 Mile Radius/'\n",
    "\n",
    "s2 = '_albedo_data.csv'\n",
    "\n",
    "for code in codes:\n",
    "\n",
    "    openpath = s1 + code + s2\n",
    "\n",
    "    with open(openpath) as f:\n",
    "\n",
    "        data = pd.read_csv(f, sep = ',')\n",
    "\n",
    "    totalAlbedo = float(0)\n",
    "\n",
    "    totalArea = float(0)\n",
    "\n",
    "    for index, row in data.iterrows():\n",
    "\n",
    "        val = row['Area'] * row['Albedo']\n",
    "\n",
    "        if not math.isnan(val):\n",
    "\n",
    "            totalAlbedo += val\n",
    "\n",
    "        totalArea += row['Area']\n",
    "\n",
    "    weightedAlbedo = totalAlbedo/totalArea\n",
    "\n",
    "    with open(s1 + code + '_weighted_albedo.txt', 'w+') as f:\n",
    "\n",
    "        f.write(str(weightedAlbedo))"
   ]
  },
  {
   "cell_type": "code",
   "execution_count": null,
   "metadata": {},
   "outputs": [],
   "source": []
  }
 ],
 "metadata": {
  "kernelspec": {
   "display_name": "Python 3",
   "language": "python",
   "name": "python3"
  },
  "language_info": {
   "codemirror_mode": {
    "name": "ipython",
    "version": 3
   },
   "file_extension": ".py",
   "mimetype": "text/x-python",
   "name": "python",
   "nbconvert_exporter": "python",
   "pygments_lexer": "ipython3",
   "version": "3.7.6"
  }
 },
 "nbformat": 4,
 "nbformat_minor": 4
}
