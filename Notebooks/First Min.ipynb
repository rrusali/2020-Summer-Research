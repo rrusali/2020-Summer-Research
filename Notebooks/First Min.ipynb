{
 "cells": [
  {
   "cell_type": "code",
   "execution_count": 1,
   "metadata": {},
   "outputs": [],
   "source": [
    "import pandas as pd\n",
    "import numpy as np\n",
    "import matplotlib.pyplot as plt\n",
    "from scipy.signal import savgol_filter\n",
    "import seaborn as sns\n",
    "import os\n",
    "import re"
   ]
  },
  {
   "cell_type": "code",
   "execution_count": 2,
   "metadata": {},
   "outputs": [],
   "source": [
    "# Declare the file name and stuff here\n",
    "\n",
    "###\n",
    "\n",
    "s1 = \"E:/Old Downloads Folder/Research Stuff/Jupyter Notebooks/Coordination Analysis Data/Nashville/\"\n",
    "\n",
    "###\n"
   ]
  },
  {
   "cell_type": "code",
   "execution_count": 3,
   "metadata": {},
   "outputs": [],
   "source": [
    "def findScale():\n",
    "    \n",
    "    # Access the scale file of your zip code to find the Ovito -> Real world scale. Make sure to update\n",
    "    # filepaths as necessary\n",
    "    s = 'E:/Old Downloads Folder/Research Stuff/Jupyter Notebooks/Coords Folder/Weather Station Coords/Nashville/'\n",
    "    \n",
    "    scale = 0\n",
    "\n",
    "    openpath = s + code + '_scale.txt'\n",
    "\n",
    "    with open(openpath) as f:\n",
    "\n",
    "        f = f.read()\n",
    "\n",
    "        scale = re.sub('[^0-9]', '', f)\n",
    "        \n",
    "        return int(scale)"
   ]
  },
  {
   "cell_type": "code",
   "execution_count": 4,
   "metadata": {},
   "outputs": [],
   "source": [
    "def findFirstPeak(dataframe, convergeVal):\n",
    "    \n",
    "    # This function finds the index value of the end of the first peak in your dataframe\n",
    "    \n",
    "    maxVal = frame['y'].max()\n",
    "    gate = 1/2*(maxVal - convergeVal) + convergeVal\n",
    "    prev_val = 0\n",
    "    passGate = False\n",
    "    \n",
    "    for index, data in dataframe.iterrows():\n",
    "\n",
    "        y_val = data['y']\n",
    "\n",
    "        if y_val < gate and prev_val > gate:\n",
    "\n",
    "            passGate = True\n",
    "\n",
    "        if passGate == True:\n",
    "\n",
    "            if prev_val < y_val and (y_val - prev_val) > 0.01 * (maxVal - convergeVal):\n",
    "\n",
    "                return (index)\n",
    "\n",
    "        prev_val = y_val"
   ]
  },
  {
   "cell_type": "code",
   "execution_count": 5,
   "metadata": {},
   "outputs": [],
   "source": [
    "def firstPeakIntegral(dataFrame, window_length, polyorder):\n",
    "    \n",
    "    # This function calculates the integral of the data set passed in\n",
    "    \n",
    "    yhat = savgol_filter(dataFrame['y'], window_length = window_length, polyorder = polyorder)\n",
    "    \n",
    "    changed_frame = dataFrame.copy()\n",
    "    changed_frame['y'] = yhat\n",
    "    \n",
    "    convergeVal = dataFrame['y'][-1:].item()\n",
    "    \n",
    "    i = findFirstPeak(changed_frame, convergeVal = convergeVal)\n",
    "    \n",
    "    x_vals = dataFrame['x'][:i].multiply(findScale())\n",
    "    \n",
    "    normal_factor = x_vals[-1:].item()\n",
    "    \n",
    "    y_vals = dataFrame['y'][:i]\n",
    "    \n",
    "    ax = sns.lineplot(x = x_vals, y = y_vals)\n",
    "    ax.set_title('First Peak of ' + code)\n",
    "    ax.set(xlabel = 'Distance (ft)', ylabel = 'g(r)')\n",
    "        \n",
    "    return(np.trapz(x = x_vals, y = y_vals) /normal_factor)"
   ]
  },
  {
   "cell_type": "code",
   "execution_count": 6,
   "metadata": {},
   "outputs": [],
   "source": [
    "# firstPeakIntegral(frame, 5, 3)"
   ]
  },
  {
   "cell_type": "code",
   "execution_count": 7,
   "metadata": {},
   "outputs": [
    {
     "data": {
      "image/png": "[encoded data removed]",
      "text/plain": [
       "<Figure size 432x288 with 1 Axes>"
      ]
     },
     "metadata": {
      "needs_background": "light"
     },
     "output_type": "display_data"
    }
   ],
   "source": [
    "# This is just something I wrote so I don't have to type in all the file names myself. It loops through all the \n",
    "# files in the directory except the New York test one\n",
    "\n",
    "for file in os.listdir(s1):\n",
    "    \n",
    "    code = file[:-4]\n",
    "\n",
    "    with open(s1 + code + '.txt') as f:\n",
    "\n",
    "        frame = pd.read_csv(f, sep = ' ', names = ['x', 'y'])\n",
    "\n",
    "    line = firstPeakIntegral(frame, 5, 3)\n",
    "\n",
    "    with open(s1 + code + '_first_peak.txt', 'w+') as file:\n",
    "\n",
    "        file.write(str(line))"
   ]
  },
  {
   "cell_type": "code",
   "execution_count": null,
   "metadata": {},
   "outputs": [],
   "source": []
  }
 ],
 "metadata": {
  "kernelspec": {
   "display_name": "Python 3",
   "language": "python",
   "name": "python3"
  },
  "language_info": {
   "codemirror_mode": {
    "name": "ipython",
    "version": 3
   },
   "file_extension": ".py",
   "mimetype": "text/x-python",
   "name": "python",
   "nbconvert_exporter": "python",
   "pygments_lexer": "ipython3",
   "version": "3.7.6"
  }
 },
 "nbformat": 4,
 "nbformat_minor": 4
}
