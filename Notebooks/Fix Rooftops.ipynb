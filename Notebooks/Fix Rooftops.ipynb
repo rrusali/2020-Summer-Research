{
 "cells": [
  {
   "cell_type": "code",
   "execution_count": 1,
   "metadata": {},
   "outputs": [],
   "source": [
    "import os\n",
    "from shutil import copyfile"
   ]
  },
  {
   "cell_type": "code",
   "execution_count": 2,
   "metadata": {},
   "outputs": [
    {
     "name": "stdout",
     "output_type": "stream",
     "text": [
      "216\n",
      "4569\n",
      "22448\n",
      "22563\n",
      "32789\n",
      "39259\n",
      "50137\n",
      "55037\n"
     ]
    }
   ],
   "source": [
    "code = 'USC00408238'\n",
    "\n",
    "s1 = 'E:/Old Downloads Folder/Research Stuff/GIS Maps/Rooftops/Nashville/'\n",
    "\n",
    "buildings = 55220\n",
    "\n",
    "for i in range(buildings):\n",
    "    \n",
    "    check = s1 + code + '/' + code + '_' + str(i) + '.tif'\n",
    "    \n",
    "    if os.path.isfile(check) == False:\n",
    "        \n",
    "        print(i)\n",
    "        \n",
    "        source = s1 + code + '/' + code + '_' + str(i - 1) + '.tif'\n",
    "        \n",
    "        copyfile(source, check)"
   ]
  },
  {
   "cell_type": "code",
   "execution_count": 3,
   "metadata": {},
   "outputs": [
    {
     "data": {
      "text/plain": [
       "'USW0002313'"
      ]
     },
     "execution_count": 3,
     "metadata": {},
     "output_type": "execute_result"
    }
   ],
   "source": [
    "code[:-4]"
   ]
  },
  {
   "cell_type": "code",
   "execution_count": null,
   "metadata": {},
   "outputs": [],
   "source": []
  }
 ],
 "metadata": {
  "kernelspec": {
   "display_name": "Python 3",
   "language": "python",
   "name": "python3"
  },
  "language_info": {
   "codemirror_mode": {
    "name": "ipython",
    "version": 3
   },
   "file_extension": ".py",
   "mimetype": "text/x-python",
   "name": "python",
   "nbconvert_exporter": "python",
   "pygments_lexer": "ipython3",
   "version": "3.7.6"
  }
 },
 "nbformat": 4,
 "nbformat_minor": 4
}
