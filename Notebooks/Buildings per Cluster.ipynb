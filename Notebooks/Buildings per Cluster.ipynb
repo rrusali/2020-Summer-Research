{
 "cells": [
  {
   "cell_type": "code",
   "execution_count": 1,
   "metadata": {},
   "outputs": [],
   "source": [
    "import pandas as pd\n",
    "from scipy.optimize import curve_fit\n",
    "import numpy as np\n",
    "import matplotlib.pyplot as plt\n",
    "import seaborn as sns\n",
    "import os\n",
    "import re"
   ]
  },
  {
   "cell_type": "code",
   "execution_count": 2,
   "metadata": {},
   "outputs": [],
   "source": [
    "# Declare file path convention here\n",
    "\n",
    "###\n",
    "\n",
    "s1 = 'E:/Old Downloads Folder/Research Stuff/Jupyter Notebooks/Coords Folder/Weather Station Coords/Nashville/'\n",
    "\n",
    "###\n"
   ]
  },
  {
   "cell_type": "code",
   "execution_count": 3,
   "metadata": {},
   "outputs": [],
   "source": [
    "# This finds the initial step, stopping point, and step size of the files in your directory\n",
    "\n",
    "def findFiles(code):\n",
    "\n",
    "    total_steps = 0\n",
    "\n",
    "    i = 0\n",
    "\n",
    "    first_file = False\n",
    "\n",
    "    final = 0\n",
    "\n",
    "    with os.scandir(s1 + code) as entries:\n",
    "\n",
    "        bad_strings = [code, '_', '.txt']\n",
    "\n",
    "        for entry in entries:\n",
    "\n",
    "            file_name = entry.name\n",
    "\n",
    "            for string in bad_strings:\n",
    "\n",
    "                file_name = file_name.replace(string, '')\n",
    "\n",
    "            if float(file_name) > final:\n",
    "\n",
    "                final = float(file_name)\n",
    "\n",
    "            if first_file == False:\n",
    "\n",
    "                i = float(file_name)\n",
    "\n",
    "                first_file = True\n",
    "\n",
    "            total_steps += 1\n",
    "\n",
    "    step = round((final - i)/(total_steps - 1), 5)\n",
    "    \n",
    "    return(i, final, step)"
   ]
  },
  {
   "cell_type": "code",
   "execution_count": 4,
   "metadata": {},
   "outputs": [],
   "source": [
    "# Access the scale file of your code to find the Ovito -> Real world scale\n",
    "\n",
    "def findScale(code):\n",
    "\n",
    "    scale = 0\n",
    "\n",
    "    openpath = s1 + code + '_scale.txt'\n",
    "\n",
    "    with open(openpath) as f:\n",
    "\n",
    "        f = f.read()\n",
    "\n",
    "        scale = re.sub('[^0-9]', '', f)\n",
    "        \n",
    "    return float(scale)"
   ]
  },
  {
   "cell_type": "code",
   "execution_count": 5,
   "metadata": {},
   "outputs": [],
   "source": [
    "# Create the dataframe that will hold our results\n",
    "\n",
    "def buildingsPerCluster(code):\n",
    "    \n",
    "    s2 = '/' + code + '_'\n",
    "    \n",
    "    i, final, step = findFiles(code)\n",
    "    \n",
    "    column_names = ['Ovito Range', 'Buildings per Cluster']\n",
    "\n",
    "    final_frame = pd.DataFrame(columns = column_names)\n",
    "\n",
    "    # The loop that does everything yeet\n",
    "\n",
    "    while i <= final:\n",
    "\n",
    "        # I could not figure out how to intelligently round the numbers so make sure to check this before running!!\n",
    "\n",
    "        i = round(i, 5)\n",
    "\n",
    "        openpath = s1 + code + s2 + str(i) + '.txt'\n",
    "\n",
    "        with open(openpath) as file:\n",
    "\n",
    "            data = pd.read_csv(file, sep = ',', names = ['Size'], skiprows = [0])\n",
    "\n",
    "        # data.index = data.index + 1\n",
    "\n",
    "        # data = data.reset_index()\n",
    "\n",
    "        total_buildings = data['Size'].sum()\n",
    "\n",
    "        total_clusters = data.index.max() + 1\n",
    "\n",
    "        buildings_per_cluster = total_buildings/total_clusters\n",
    "\n",
    "        temp_df = pd.DataFrame([[i, buildings_per_cluster]], columns = column_names)\n",
    "\n",
    "        final_frame = final_frame.append(temp_df, ignore_index = True)\n",
    "\n",
    "        i += step\n",
    "\n",
    "    return final_frame"
   ]
  },
  {
   "cell_type": "code",
   "execution_count": 6,
   "metadata": {},
   "outputs": [],
   "source": [
    "def findFirstDrop(code):\n",
    "    \n",
    "    openpath = s1 + 'First Drops/' + code + '_first_drop.txt'\n",
    "    \n",
    "    with open(openpath) as f:\n",
    "        \n",
    "        f = f.read()\n",
    "        \n",
    "    ovitoDist = float(f) / findScale(code)\n",
    "    \n",
    "    return ovitoDist"
   ]
  },
  {
   "cell_type": "code",
   "execution_count": 7,
   "metadata": {},
   "outputs": [],
   "source": [
    "def findVal(code):\n",
    "    \n",
    "    dist = findFirstDrop(code)\n",
    "    \n",
    "    frame = buildingsPerCluster(code)\n",
    "    \n",
    "    return frame.loc[frame['Ovito Range'] == dist]['Buildings per Cluster'].item()"
   ]
  },
  {
   "cell_type": "code",
   "execution_count": 10,
   "metadata": {},
   "outputs": [],
   "source": [
    "# codes = ['USW00023130', 'USW00093134']\n",
    "# codes = ['USC00360022', 'USC00360861', 'USC00362574', 'USC00365573', 'USC00365918', 'USW00014762', 'USW00094823']\n",
    "codes = ['USC00408238']\n",
    "\n",
    "for code in codes:\n",
    "    \n",
    "    line = findVal(code)\n",
    "    \n",
    "    savepath = 'E:/Old Downloads Folder/Research Stuff/Jupyter Notebooks/Coords Folder/Weather Station Coords/Nashville/First Drops/Buildings Per Cluster/' + code + '_buildings_per_cluster.txt'\n",
    "\n",
    "    with open(savepath, 'w+') as f:\n",
    "        \n",
    "        f.write(str(line))"
   ]
  },
  {
   "cell_type": "code",
   "execution_count": 1,
   "metadata": {},
   "outputs": [],
   "source": [
    "# final_frame = buildingsPerCluster(code)\n",
    "\n",
    "# sns.set(rc={'figure.figsize':(20, 10)})\n",
    "\n",
    "# zip_dist = sns.scatterplot(x = final_frame['Ovito Range'] * findScale(code), y = final_frame['Buildings per Cluster'])\n",
    "\n",
    "# zip_dist.set_title('Buildings per Cluster vs Ovito Range for ' + str(code))\n",
    "\n",
    "# zip_dist.set(ylabel = 'Buildings per Cluster', xlabel = 'Cluster Radius (ft)')"
   ]
  },
  {
   "cell_type": "code",
   "execution_count": 12,
   "metadata": {},
   "outputs": [],
   "source": [
    "# This saves the figure that's generated\n",
    "\n",
    "fig = zip_dist.get_figure()\n",
    "\n",
    "fig.savefig('Pictures and Figures/' + zip_code + '_per_cluster.png')"
   ]
  },
  {
   "cell_type": "code",
   "execution_count": null,
   "metadata": {},
   "outputs": [],
   "source": []
  }
 ],
 "metadata": {
  "kernelspec": {
   "display_name": "Python 3",
   "language": "python",
   "name": "python3"
  },
  "language_info": {
   "codemirror_mode": {
    "name": "ipython",
    "version": 3
   },
   "file_extension": ".py",
   "mimetype": "text/x-python",
   "name": "python",
   "nbconvert_exporter": "python",
   "pygments_lexer": "ipython3",
   "version": "3.7.6"
  }
 },
 "nbformat": 4,
 "nbformat_minor": 4
}
