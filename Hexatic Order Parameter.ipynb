{
 "cells": [
  {
   "cell_type": "code",
   "execution_count": 11,
   "metadata": {},
   "outputs": [],
   "source": [
    "import freud\n",
    "import numpy as np"
   ]
  },
  {
   "cell_type": "code",
   "execution_count": 14,
   "metadata": {},
   "outputs": [],
   "source": [
    "codes = ['USC00360022', 'USC00360861', 'USC00362574', 'USC00365573', 'USC00365918', 'USW00014762', 'USW00094823']\n",
    "codes = ['USW00023130', 'USW00093134']\n",
    "\n",
    "s1 = \"E:/Old Downloads Folder/Research Stuff/Jupyter Notebooks/Coords Folder/Weather Station Coords/Los Angeles/\"\n",
    "s2 = \"_building_coords_reformatted.txt\"\n",
    "\n",
    "def getAverageHexOrder(filepath, k):\n",
    "    \n",
    "    # Reformat the file into a numpy array\n",
    "    N = int(np.genfromtxt(filepath, max_rows=1))\n",
    "    positions = np.genfromtxt(filepath, skip_header=2, invalid_raise=False)[:, 1:4].reshape(-1, N, 3)\n",
    "    \n",
    "    # Remove a dimension\n",
    "    positions = positions[0]\n",
    "    \n",
    "    # Find the x and y lengths of our box\n",
    "    xmin = positions[0][0]\n",
    "    xmax = xmin\n",
    "    ymin = positions[0][1]\n",
    "    ymax = ymin\n",
    "\n",
    "    for i in range(N):\n",
    "\n",
    "        x = positions[i][0]\n",
    "        y = positions[i][1]\n",
    "        positions[i][2] = 0    \n",
    "\n",
    "        if x < xmin: xmin = x\n",
    "        elif x > xmax: xmax = x\n",
    "\n",
    "        if y < ymin: ymin = y\n",
    "        elif y > ymax: ymax = y\n",
    "\n",
    "    Lx = xmax - xmin\n",
    "    Ly = ymax - ymin\n",
    "    \n",
    "    # Compute our Hexatic order    \n",
    "    op = freud.order.Hexatic(k=k)\n",
    "    op.compute(system = ({'Lx': Lx, 'Ly': Ly, 'dimensions': 2}, positions))\n",
    "    \n",
    "    # Return the average\n",
    "    return np.average(np.absolute(op.particle_order))\n",
    "    "
   ]
  },
  {
   "cell_type": "code",
   "execution_count": 15,
   "metadata": {},
   "outputs": [],
   "source": [
    "for code in codes:\n",
    "    \n",
    "    k = 2\n",
    "    \n",
    "    full_path = s1 + code + s2\n",
    "    line = getAverageHexOrder(full_path, k)\n",
    "    \n",
    "    save1 = \"E:/Old Downloads Folder/Research Stuff/Jupyter Notebooks/Hexatic Order Parameters/\"\n",
    "    save2 = \"_hexatic_order_parameter.txt\"\n",
    "    savepath = save1 + code + save2\n",
    "    \n",
    "    with open(savepath, 'w+') as f:\n",
    "        f.write(str(k) + ' - ' + str(line))"
   ]
  },
  {
   "cell_type": "code",
   "execution_count": null,
   "metadata": {},
   "outputs": [],
   "source": []
  }
 ],
 "metadata": {
  "kernelspec": {
   "display_name": "Python 3",
   "language": "python",
   "name": "python3"
  },
  "language_info": {
   "codemirror_mode": {
    "name": "ipython",
    "version": 3
   },
   "file_extension": ".py",
   "mimetype": "text/x-python",
   "name": "python",
   "nbconvert_exporter": "python",
   "pygments_lexer": "ipython3",
   "version": "3.7.6"
  }
 },
 "nbformat": 4,
 "nbformat_minor": 4
}
