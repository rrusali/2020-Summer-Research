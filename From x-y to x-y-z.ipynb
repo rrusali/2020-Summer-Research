{
 "cells": [
  {
   "cell_type": "code",
   "execution_count": 1,
   "metadata": {},
   "outputs": [],
   "source": [
    "import pandas as pd\n",
    "import os"
   ]
  },
  {
   "cell_type": "code",
   "execution_count": 2,
   "metadata": {},
   "outputs": [],
   "source": [
    "# This function turns xy coordinate files into xyz files\n",
    "def xy2xyz(code, filepath):\n",
    "    \n",
    "    # Turn the text file into a Pandas dataframe\n",
    "    with open(filepath + code + '_building_coords.txt') as file: coords = pd.read_csv(file, sep=',', names=['Area', 'x', 'y'])\n",
    "    \n",
    "    # Drop the class column from the frame\n",
    "    coords = coords.drop(['Area'], axis = 1)\n",
    "\n",
    "    # Create the normalized dataframe\n",
    "    normalized_data = pd.DataFrame()\n",
    "    measure = [[1, 0], [1, 0]]\n",
    "    index = 0\n",
    "    abs_max = 0\n",
    "\n",
    "    # Find the normalization factor for both x and y\n",
    "    for letter in ['x', 'y']:\n",
    "        localMax = coords[letter].max()\n",
    "        localMin = coords[letter].min()\n",
    "        abs_local = max(abs(localMax), abs(localMin))\n",
    "\n",
    "        if abs_local > abs_max:\n",
    "            abs_max = abs_local\n",
    "\n",
    "    for letter in ['x', 'y']:\n",
    "        normalized_data[letter] = coords[letter].divide(abs_max)\n",
    "        mean = normalized_data[letter].mean()\n",
    "        normalized_data[letter] = normalized_data[letter].subtract(mean)\n",
    "        normalized_data[letter] = normalized_data[letter].multiply(10000)\n",
    "\n",
    "        for scale in range(len(measure[index])): \n",
    "            num = measure[index][scale]\n",
    "            num = num/10000 \n",
    "            num = num + mean  \n",
    "            num = num * abs_max  \n",
    "            measure[index][scale] = num\n",
    "\n",
    "        index += 1\n",
    "\n",
    "    scale = ((((measure[0][0] - measure[0][1])**2 + (measure[1][0] - measure[1][1])**2)/2)**(1/2))\n",
    "\n",
    "    # The multiplication factor here comes from the amount of feet in one degree of latitude. It's a rough measure\n",
    "    line = 'One degree of Ovito coords is about equal to ' + str(int(scale*364000)) + ' feet!'\n",
    "    \n",
    "    # Add in the extra columns and rows necessary in an xyz file\n",
    "    normalized_data.insert(0, 'test', 'H')\n",
    "    normalized_data[''] = 0\n",
    "    normalized_data.loc[-1] = ['', '', '', '']\n",
    "    normalized_data.index = normalized_data.index + 1\n",
    "    normalized_data = normalized_data.sort_index()\n",
    "    r, c = normalized_data.shape\n",
    "\n",
    "    # Setting one of the 'z' values as 0.01 to prevent degeneracy (lol)\n",
    "    normalized_data.columns = ['1', '2', '3', '4']\n",
    "    normalized_data['4'][1] = 0.01\n",
    "    normalized_data.columns = [r - 1, '', '', '']\n",
    "    \n",
    "    # Found here: https://stackoverflow.com/questions/41428539/data-frame-to-file-txt-python/41428596\n",
    "    normalized_data.to_csv(path_or_buf=filepath + code + '_building_coords_reformatted.txt', index=False, header=True, sep='\\t', mode='a')\n",
    "\n",
    "    # Write the scale to a text file\n",
    "    with open(filepath + code + '_scale.txt', 'w+') as file: file.write(str(line))"
   ]
  },
  {
   "cell_type": "code",
   "execution_count": 4,
   "metadata": {},
   "outputs": [],
   "source": [
    "path = 'E:/Old Downloads Folder/Research Stuff/Jupyter Notebooks/Coords Folder/Weather Station Coords/Las Vegas/'\n",
    "\n",
    "xy2xyz('US-LV', path)\n",
    "\n",
    "# files = os.listdir(path)\n",
    "# ids = []\n",
    "\n",
    "# for file in files:\n",
    "#     num = file[:file.find('_')]\n",
    "#     if num not in ids:\n",
    "#         ids.append(num)\n",
    "        \n",
    "# for i in ids:\n",
    "#     xy2xyz(i, path)"
   ]
  },
  {
   "cell_type": "code",
   "execution_count": null,
   "metadata": {},
   "outputs": [],
   "source": []
  }
 ],
 "metadata": {
  "kernelspec": {
   "display_name": "Python 3",
   "language": "python",
   "name": "python3"
  },
  "language_info": {
   "codemirror_mode": {
    "name": "ipython",
    "version": 3
   },
   "file_extension": ".py",
   "mimetype": "text/x-python",
   "name": "python",
   "nbconvert_exporter": "python",
   "pygments_lexer": "ipython3",
   "version": "3.7.6"
  }
 },
 "nbformat": 4,
 "nbformat_minor": 4
}
