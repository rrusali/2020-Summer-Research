{
 "cells": [
  {
   "cell_type": "code",
   "execution_count": 1,
   "metadata": {},
   "outputs": [],
   "source": [
    "import os\n",
    "from shutil import copyfile"
   ]
  },
  {
   "cell_type": "code",
   "execution_count": 2,
   "metadata": {},
   "outputs": [],
   "source": [
    "code = 'USW00093134'\n",
    "\n",
    "fol1 = 'E:/Old Downloads Folder/Research Stuff/GIS Maps/Rooftops/Los Angeles/' + code\n",
    "fol2 = 'E:/Old Downloads Folder/Research Stuff/GIS Maps/Rooftops/Los Angeles/' + code + '_v2'\n",
    "\n",
    "len1 = len([name for name in os.listdir(fol1) if os.path.isfile(os.path.join(fol1, name))])\n",
    "len2 = len([name for name in os.listdir(fol2) if os.path.isfile(os.path.join(fol2, name))])\n",
    "\n",
    "for i in range(len2):\n",
    "    \n",
    "    source = fol2 + '/' + code + '_' + str(i) + '.tif'\n",
    "    dest = fol1 + '/' + code + '_' + str(i + len1) + '.tif'\n",
    "    \n",
    "    copyfile(source, dest)"
   ]
  },
  {
   "cell_type": "code",
   "execution_count": null,
   "metadata": {},
   "outputs": [],
   "source": []
  }
 ],
 "metadata": {
  "kernelspec": {
   "display_name": "Python 3",
   "language": "python",
   "name": "python3"
  },
  "language_info": {
   "codemirror_mode": {
    "name": "ipython",
    "version": 3
   },
   "file_extension": ".py",
   "mimetype": "text/x-python",
   "name": "python",
   "nbconvert_exporter": "python",
   "pygments_lexer": "ipython3",
   "version": "3.7.6"
  }
 },
 "nbformat": 4,
 "nbformat_minor": 4
}
